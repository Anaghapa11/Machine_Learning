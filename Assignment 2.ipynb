{
 "cells": [
  {
   "cell_type": "code",
   "execution_count": 1,
   "id": "242e65a0-c02c-4248-bef1-03b62e42fb6c",
   "metadata": {},
   "outputs": [],
   "source": [
    "import numpy as np\n",
    "import pandas as pd\n",
    "import matplotlib.pyplot as plt\n",
    "import seaborn as sns\n",
    "from sklearn.model_selection import train_test_split\n",
    "from sklearn.preprocessing import StandardScaler,MinMaxScaler"
   ]
  },
  {
   "cell_type": "code",
   "execution_count": 11,
   "id": "d4b5dff5-7b3f-41ae-973e-071b94c0ab5b",
   "metadata": {},
   "outputs": [],
   "source": [
    "df = pd.read_csv('Employee.csv') "
   ]
  },
  {
   "cell_type": "code",
   "execution_count": 5,
   "id": "589f0b0f-6ab3-4282-a1f7-36f30f32718c",
   "metadata": {},
   "outputs": [
    {
     "data": {
      "text/html": [
       "<div>\n",
       "<style scoped>\n",
       "    .dataframe tbody tr th:only-of-type {\n",
       "        vertical-align: middle;\n",
       "    }\n",
       "\n",
       "    .dataframe tbody tr th {\n",
       "        vertical-align: top;\n",
       "    }\n",
       "\n",
       "    .dataframe thead th {\n",
       "        text-align: right;\n",
       "    }\n",
       "</style>\n",
       "<table border=\"1\" class=\"dataframe\">\n",
       "  <thead>\n",
       "    <tr style=\"text-align: right;\">\n",
       "      <th></th>\n",
       "      <th>Age</th>\n",
       "      <th>Salary</th>\n",
       "      <th>Place</th>\n",
       "      <th>Country</th>\n",
       "      <th>Gender</th>\n",
       "    </tr>\n",
       "    <tr>\n",
       "      <th>Company</th>\n",
       "      <th></th>\n",
       "      <th></th>\n",
       "      <th></th>\n",
       "      <th></th>\n",
       "      <th></th>\n",
       "    </tr>\n",
       "  </thead>\n",
       "  <tbody>\n",
       "    <tr>\n",
       "      <th>TCS</th>\n",
       "      <td>20.0</td>\n",
       "      <td>NaN</td>\n",
       "      <td>Chennai</td>\n",
       "      <td>India</td>\n",
       "      <td>0</td>\n",
       "    </tr>\n",
       "    <tr>\n",
       "      <th>Infosys</th>\n",
       "      <td>30.0</td>\n",
       "      <td>NaN</td>\n",
       "      <td>Mumbai</td>\n",
       "      <td>India</td>\n",
       "      <td>0</td>\n",
       "    </tr>\n",
       "    <tr>\n",
       "      <th>TCS</th>\n",
       "      <td>35.0</td>\n",
       "      <td>2300.0</td>\n",
       "      <td>Calcutta</td>\n",
       "      <td>India</td>\n",
       "      <td>0</td>\n",
       "    </tr>\n",
       "    <tr>\n",
       "      <th>Infosys</th>\n",
       "      <td>40.0</td>\n",
       "      <td>3000.0</td>\n",
       "      <td>Delhi</td>\n",
       "      <td>India</td>\n",
       "      <td>0</td>\n",
       "    </tr>\n",
       "    <tr>\n",
       "      <th>TCS</th>\n",
       "      <td>23.0</td>\n",
       "      <td>4000.0</td>\n",
       "      <td>Mumbai</td>\n",
       "      <td>India</td>\n",
       "      <td>0</td>\n",
       "    </tr>\n",
       "    <tr>\n",
       "      <th>...</th>\n",
       "      <td>...</td>\n",
       "      <td>...</td>\n",
       "      <td>...</td>\n",
       "      <td>...</td>\n",
       "      <td>...</td>\n",
       "    </tr>\n",
       "    <tr>\n",
       "      <th>TCS</th>\n",
       "      <td>33.0</td>\n",
       "      <td>9024.0</td>\n",
       "      <td>Calcutta</td>\n",
       "      <td>India</td>\n",
       "      <td>1</td>\n",
       "    </tr>\n",
       "    <tr>\n",
       "      <th>Infosys</th>\n",
       "      <td>22.0</td>\n",
       "      <td>8787.0</td>\n",
       "      <td>Calcutta</td>\n",
       "      <td>India</td>\n",
       "      <td>1</td>\n",
       "    </tr>\n",
       "    <tr>\n",
       "      <th>Infosys</th>\n",
       "      <td>44.0</td>\n",
       "      <td>4034.0</td>\n",
       "      <td>Delhi</td>\n",
       "      <td>India</td>\n",
       "      <td>1</td>\n",
       "    </tr>\n",
       "    <tr>\n",
       "      <th>TCS</th>\n",
       "      <td>33.0</td>\n",
       "      <td>5034.0</td>\n",
       "      <td>Mumbai</td>\n",
       "      <td>India</td>\n",
       "      <td>1</td>\n",
       "    </tr>\n",
       "    <tr>\n",
       "      <th>Infosys</th>\n",
       "      <td>22.0</td>\n",
       "      <td>8202.0</td>\n",
       "      <td>Cochin</td>\n",
       "      <td>India</td>\n",
       "      <td>0</td>\n",
       "    </tr>\n",
       "  </tbody>\n",
       "</table>\n",
       "<p>148 rows × 5 columns</p>\n",
       "</div>"
      ],
      "text/plain": [
       "          Age  Salary     Place Country  Gender\n",
       "Company                                        \n",
       "TCS      20.0     NaN   Chennai   India       0\n",
       "Infosys  30.0     NaN    Mumbai   India       0\n",
       "TCS      35.0  2300.0  Calcutta   India       0\n",
       "Infosys  40.0  3000.0     Delhi   India       0\n",
       "TCS      23.0  4000.0    Mumbai   India       0\n",
       "...       ...     ...       ...     ...     ...\n",
       "TCS      33.0  9024.0  Calcutta   India       1\n",
       "Infosys  22.0  8787.0  Calcutta   India       1\n",
       "Infosys  44.0  4034.0     Delhi   India       1\n",
       "TCS      33.0  5034.0    Mumbai   India       1\n",
       "Infosys  22.0  8202.0    Cochin   India       0\n",
       "\n",
       "[148 rows x 5 columns]"
      ]
     },
     "execution_count": 5,
     "metadata": {},
     "output_type": "execute_result"
    }
   ],
   "source": [
    "bs = pd.read_csv('Employee.csv',index_col=0)\n",
    "bs"
   ]
  },
  {
   "cell_type": "markdown",
   "id": "68940ce6-2c52-4a68-b03f-5bba6392e0e6",
   "metadata": {},
   "source": [
    "# Data Exploration"
   ]
  },
  {
   "cell_type": "code",
   "execution_count": 7,
   "id": "7d52f6f9-23f5-4d03-a38b-db5c4f301e5b",
   "metadata": {},
   "outputs": [
    {
     "name": "stdout",
     "output_type": "stream",
     "text": [
      "Company - Unique Values: ['TCS' 'Infosys' 'CTS' nan 'Tata Consultancy Services' 'Congnizant'\n",
      " 'Infosys Pvt Lmt'] | Length: 7\n",
      "Age - Unique Values: [20. 30. 35. 40. 23. nan 34. 45. 18. 22. 32. 37. 50. 21. 46. 36. 26. 41.\n",
      " 24. 25. 43. 19. 38. 51. 31. 44. 33. 17.  0. 54.] | Length: 30\n",
      "Salary - Unique Values: [  nan 2300. 3000. 4000. 5000. 6000. 7000. 8000. 9000. 1089. 1234. 3030.\n",
      " 3045. 3184. 4824. 5835. 7084. 8943. 8345. 9284. 9876. 2034. 7654. 2934.\n",
      " 4034. 5034. 8202. 9024. 4345. 6544. 6543. 3234. 4324. 5435. 5555. 8787.\n",
      " 3454. 5654. 5009. 5098. 3033.] | Length: 41\n",
      "Place - Unique Values: ['Chennai' 'Mumbai' 'Calcutta' 'Delhi' 'Podicherry' 'Cochin' nan 'Noida'\n",
      " 'Hyderabad' 'Bhopal' 'Nagpur' 'Pune'] | Length: 12\n",
      "Country - Unique Values: ['India'] | Length: 1\n",
      "Gender - Unique Values: [0 1] | Length: 2\n"
     ]
    }
   ],
   "source": [
    "for col in df.columns:\n",
    "    print(f'{col} - Unique Values: {df[col].unique()} | Length: {len(df[col].unique())}')"
   ]
  },
  {
   "cell_type": "code",
   "execution_count": 17,
   "id": "4506c37a-e3cd-40d3-9ccc-6163c6ede65a",
   "metadata": {},
   "outputs": [
    {
     "name": "stdout",
     "output_type": "stream",
     "text": [
      "<class 'pandas.core.frame.DataFrame'>\n",
      "Index: 148 entries, TCS to Infosys\n",
      "Data columns (total 5 columns):\n",
      " #   Column   Non-Null Count  Dtype  \n",
      "---  ------   --------------  -----  \n",
      " 0   Age      130 non-null    float64\n",
      " 1   Salary   124 non-null    float64\n",
      " 2   Place    134 non-null    object \n",
      " 3   Country  148 non-null    object \n",
      " 4   Gender   148 non-null    int64  \n",
      "dtypes: float64(2), int64(1), object(2)\n",
      "memory usage: 6.9+ KB\n"
     ]
    }
   ],
   "source": [
    "bs.info()"
   ]
  },
  {
   "cell_type": "code",
   "execution_count": 57,
   "id": "0796c7a6-532f-41a2-b8a8-95f497f6fa95",
   "metadata": {},
   "outputs": [
    {
     "name": "stdout",
     "output_type": "stream",
     "text": [
      "              age       salary      gender\n",
      "count  144.000000   144.000000  144.000000\n",
      "mean    32.194444  4918.750000    0.222222\n",
      "std      8.242206  2512.724583    0.417191\n",
      "min     17.000000  1089.000000    0.000000\n",
      "25%     23.750000  3000.000000    0.000000\n",
      "50%     33.000000  4034.000000    0.000000\n",
      "75%     36.000000  7084.000000    0.000000\n",
      "max     54.000000  9876.000000    1.000000\n"
     ]
    }
   ],
   "source": [
    "print(df.describe()) # Statistical summary\n",
    "\n",
    "# Renaming columns \n",
    "df.columns = df.columns.str.strip().str.lower().str.replace(' ', '_')"
   ]
  },
  {
   "cell_type": "markdown",
   "id": "36ccad86-4021-4565-a771-ac64c3b11835",
   "metadata": {},
   "source": [
    "# Data Cleaning"
   ]
  },
  {
   "cell_type": "code",
   "execution_count": 27,
   "id": "4d6c0b36-6da1-4ee1-a529-77d86b19251c",
   "metadata": {},
   "outputs": [
    {
     "data": {
      "text/plain": [
       "company     8\n",
       "age        18\n",
       "salary     24\n",
       "place      14\n",
       "country     0\n",
       "gender      0\n",
       "dtype: int64"
      ]
     },
     "execution_count": 27,
     "metadata": {},
     "output_type": "execute_result"
    }
   ],
   "source": [
    "df.isnull().sum()"
   ]
  },
  {
   "cell_type": "code",
   "execution_count": 29,
   "id": "71de987d-1283-4f3e-8514-77b4c8c7697c",
   "metadata": {},
   "outputs": [
    {
     "data": {
      "text/plain": [
       "5"
      ]
     },
     "execution_count": 29,
     "metadata": {},
     "output_type": "execute_result"
    }
   ],
   "source": [
    "# checking for duplicates\n",
    "bs.duplicated().sum()"
   ]
  },
  {
   "cell_type": "code",
   "execution_count": 31,
   "id": "8b152ed6-4361-41fa-b1bd-b5e7ba85cff6",
   "metadata": {},
   "outputs": [],
   "source": [
    "df = df.drop_duplicates()# Removing duplicates"
   ]
  },
  {
   "cell_type": "code",
   "execution_count": 33,
   "id": "138ea738-f1e9-4a94-a885-07b42341aa72",
   "metadata": {},
   "outputs": [
    {
     "name": "stderr",
     "output_type": "stream",
     "text": [
      "C:\\Users\\91940\\AppData\\Local\\Temp\\ipykernel_14984\\1333272364.py:5: FutureWarning: A value is trying to be set on a copy of a DataFrame or Series through chained assignment using an inplace method.\n",
      "The behavior will change in pandas 3.0. This inplace method will never work because the intermediate object on which we are setting values always behaves as a copy.\n",
      "\n",
      "For example, when doing 'df[col].method(value, inplace=True)', try using 'df.method({col: value}, inplace=True)' or df[col] = df[col].method(value) instead, to perform the operation inplace on the original object.\n",
      "\n",
      "\n",
      "  df['age'].fillna(df['age'].median(), inplace=True)\n"
     ]
    }
   ],
   "source": [
    "#Replace the value 0 in age as NaN\n",
    "df['age'] = df['age'].replace(0, np.nan)\n",
    "\n",
    "# Fill missing values\n",
    "df['age'].fillna(df['age'].median(), inplace=True)\n",
    "df.fillna(df.mode().iloc[0], inplace=True)  # Or use mean/median for numerical columns"
   ]
  },
  {
   "cell_type": "code",
   "execution_count": 39,
   "id": "6ee56645-4f88-4c35-ad91-d05a87285e19",
   "metadata": {},
   "outputs": [
    {
     "name": "stdout",
     "output_type": "stream",
     "text": [
      "Empty DataFrame\n",
      "Columns: [company, age, salary, place, country, gender]\n",
      "Index: []\n"
     ]
    }
   ],
   "source": [
    "#Find the outliers.\n",
    "Q1 = df['salary'].quantile(0.25)\n",
    "Q3 = df['salary'].quantile(0.75)\n",
    "IQR = Q3 - Q1\n",
    "\n",
    "outliers = df[(df['salary'] < Q1 - 1.5 * IQR) | (df['salary'] > Q3 + 1.5 * IQR)]\n",
    "print(outliers)"
   ]
  },
  {
   "cell_type": "markdown",
   "id": "f183975d-6ba4-4d39-a1c0-29fbc50af3ed",
   "metadata": {},
   "source": [
    "# Data Analysis\n",
    "1.Filter the data with age >40 and salary<5000.\n",
    "2.Plot the chart with age and salary.\n",
    "3.Count the number of people from each place and represent it visually."
   ]
  },
  {
   "cell_type": "code",
   "execution_count": 51,
   "id": "e577defa-b79f-4e20-a3c4-15787415ffb3",
   "metadata": {},
   "outputs": [
    {
     "data": {
      "text/html": [
       "<div>\n",
       "<style scoped>\n",
       "    .dataframe tbody tr th:only-of-type {\n",
       "        vertical-align: middle;\n",
       "    }\n",
       "\n",
       "    .dataframe tbody tr th {\n",
       "        vertical-align: top;\n",
       "    }\n",
       "\n",
       "    .dataframe thead th {\n",
       "        text-align: right;\n",
       "    }\n",
       "</style>\n",
       "<table border=\"1\" class=\"dataframe\">\n",
       "  <thead>\n",
       "    <tr style=\"text-align: right;\">\n",
       "      <th></th>\n",
       "      <th>company</th>\n",
       "      <th>age</th>\n",
       "      <th>salary</th>\n",
       "      <th>place</th>\n",
       "      <th>country</th>\n",
       "      <th>gender</th>\n",
       "    </tr>\n",
       "  </thead>\n",
       "  <tbody>\n",
       "    <tr>\n",
       "      <th>12</th>\n",
       "      <td>CTS</td>\n",
       "      <td>45.0</td>\n",
       "      <td>3000.0</td>\n",
       "      <td>Chennai</td>\n",
       "      <td>India</td>\n",
       "      <td>0</td>\n",
       "    </tr>\n",
       "    <tr>\n",
       "      <th>21</th>\n",
       "      <td>Infosys</td>\n",
       "      <td>50.0</td>\n",
       "      <td>3184.0</td>\n",
       "      <td>Delhi</td>\n",
       "      <td>India</td>\n",
       "      <td>0</td>\n",
       "    </tr>\n",
       "    <tr>\n",
       "      <th>32</th>\n",
       "      <td>Infosys</td>\n",
       "      <td>45.0</td>\n",
       "      <td>4034.0</td>\n",
       "      <td>Calcutta</td>\n",
       "      <td>India</td>\n",
       "      <td>0</td>\n",
       "    </tr>\n",
       "    <tr>\n",
       "      <th>39</th>\n",
       "      <td>Infosys</td>\n",
       "      <td>41.0</td>\n",
       "      <td>3000.0</td>\n",
       "      <td>Mumbai</td>\n",
       "      <td>India</td>\n",
       "      <td>0</td>\n",
       "    </tr>\n",
       "    <tr>\n",
       "      <th>48</th>\n",
       "      <td>CTS</td>\n",
       "      <td>43.0</td>\n",
       "      <td>3000.0</td>\n",
       "      <td>Mumbai</td>\n",
       "      <td>India</td>\n",
       "      <td>0</td>\n",
       "    </tr>\n",
       "    <tr>\n",
       "      <th>50</th>\n",
       "      <td>Infosys</td>\n",
       "      <td>41.0</td>\n",
       "      <td>3000.0</td>\n",
       "      <td>Chennai</td>\n",
       "      <td>India</td>\n",
       "      <td>0</td>\n",
       "    </tr>\n",
       "    <tr>\n",
       "      <th>57</th>\n",
       "      <td>Infosys</td>\n",
       "      <td>51.0</td>\n",
       "      <td>3184.0</td>\n",
       "      <td>Hyderabad</td>\n",
       "      <td>India</td>\n",
       "      <td>0</td>\n",
       "    </tr>\n",
       "    <tr>\n",
       "      <th>66</th>\n",
       "      <td>CTS</td>\n",
       "      <td>41.0</td>\n",
       "      <td>3000.0</td>\n",
       "      <td>Calcutta</td>\n",
       "      <td>India</td>\n",
       "      <td>0</td>\n",
       "    </tr>\n",
       "    <tr>\n",
       "      <th>68</th>\n",
       "      <td>Infosys</td>\n",
       "      <td>43.0</td>\n",
       "      <td>4034.0</td>\n",
       "      <td>Mumbai</td>\n",
       "      <td>India</td>\n",
       "      <td>0</td>\n",
       "    </tr>\n",
       "    <tr>\n",
       "      <th>75</th>\n",
       "      <td>Infosys</td>\n",
       "      <td>44.0</td>\n",
       "      <td>3000.0</td>\n",
       "      <td>Cochin</td>\n",
       "      <td>India</td>\n",
       "      <td>0</td>\n",
       "    </tr>\n",
       "    <tr>\n",
       "      <th>86</th>\n",
       "      <td>Infosys</td>\n",
       "      <td>41.0</td>\n",
       "      <td>3000.0</td>\n",
       "      <td>Delhi</td>\n",
       "      <td>India</td>\n",
       "      <td>0</td>\n",
       "    </tr>\n",
       "    <tr>\n",
       "      <th>93</th>\n",
       "      <td>Infosys</td>\n",
       "      <td>54.0</td>\n",
       "      <td>3184.0</td>\n",
       "      <td>Mumbai</td>\n",
       "      <td>India</td>\n",
       "      <td>0</td>\n",
       "    </tr>\n",
       "    <tr>\n",
       "      <th>102</th>\n",
       "      <td>CTS</td>\n",
       "      <td>44.0</td>\n",
       "      <td>3000.0</td>\n",
       "      <td>Mumbai</td>\n",
       "      <td>India</td>\n",
       "      <td>0</td>\n",
       "    </tr>\n",
       "    <tr>\n",
       "      <th>104</th>\n",
       "      <td>Infosys</td>\n",
       "      <td>44.0</td>\n",
       "      <td>4034.0</td>\n",
       "      <td>Delhi</td>\n",
       "      <td>India</td>\n",
       "      <td>0</td>\n",
       "    </tr>\n",
       "    <tr>\n",
       "      <th>120</th>\n",
       "      <td>CTS</td>\n",
       "      <td>44.0</td>\n",
       "      <td>3000.0</td>\n",
       "      <td>Hyderabad</td>\n",
       "      <td>India</td>\n",
       "      <td>0</td>\n",
       "    </tr>\n",
       "    <tr>\n",
       "      <th>122</th>\n",
       "      <td>Infosys</td>\n",
       "      <td>44.0</td>\n",
       "      <td>3234.0</td>\n",
       "      <td>Mumbai</td>\n",
       "      <td>India</td>\n",
       "      <td>0</td>\n",
       "    </tr>\n",
       "    <tr>\n",
       "      <th>129</th>\n",
       "      <td>Infosys</td>\n",
       "      <td>50.0</td>\n",
       "      <td>3184.0</td>\n",
       "      <td>Calcutta</td>\n",
       "      <td>India</td>\n",
       "      <td>0</td>\n",
       "    </tr>\n",
       "    <tr>\n",
       "      <th>138</th>\n",
       "      <td>CTS</td>\n",
       "      <td>44.0</td>\n",
       "      <td>3033.0</td>\n",
       "      <td>Cochin</td>\n",
       "      <td>India</td>\n",
       "      <td>0</td>\n",
       "    </tr>\n",
       "    <tr>\n",
       "      <th>140</th>\n",
       "      <td>Infosys</td>\n",
       "      <td>44.0</td>\n",
       "      <td>4034.0</td>\n",
       "      <td>Hyderabad</td>\n",
       "      <td>India</td>\n",
       "      <td>0</td>\n",
       "    </tr>\n",
       "    <tr>\n",
       "      <th>145</th>\n",
       "      <td>Infosys</td>\n",
       "      <td>44.0</td>\n",
       "      <td>4034.0</td>\n",
       "      <td>Delhi</td>\n",
       "      <td>India</td>\n",
       "      <td>1</td>\n",
       "    </tr>\n",
       "  </tbody>\n",
       "</table>\n",
       "</div>"
      ],
      "text/plain": [
       "     company   age  salary      place country  gender\n",
       "12       CTS  45.0  3000.0    Chennai   India       0\n",
       "21   Infosys  50.0  3184.0      Delhi   India       0\n",
       "32   Infosys  45.0  4034.0   Calcutta   India       0\n",
       "39   Infosys  41.0  3000.0     Mumbai   India       0\n",
       "48       CTS  43.0  3000.0     Mumbai   India       0\n",
       "50   Infosys  41.0  3000.0    Chennai   India       0\n",
       "57   Infosys  51.0  3184.0  Hyderabad   India       0\n",
       "66       CTS  41.0  3000.0   Calcutta   India       0\n",
       "68   Infosys  43.0  4034.0     Mumbai   India       0\n",
       "75   Infosys  44.0  3000.0     Cochin   India       0\n",
       "86   Infosys  41.0  3000.0      Delhi   India       0\n",
       "93   Infosys  54.0  3184.0     Mumbai   India       0\n",
       "102      CTS  44.0  3000.0     Mumbai   India       0\n",
       "104  Infosys  44.0  4034.0      Delhi   India       0\n",
       "120      CTS  44.0  3000.0  Hyderabad   India       0\n",
       "122  Infosys  44.0  3234.0     Mumbai   India       0\n",
       "129  Infosys  50.0  3184.0   Calcutta   India       0\n",
       "138      CTS  44.0  3033.0     Cochin   India       0\n",
       "140  Infosys  44.0  4034.0  Hyderabad   India       0\n",
       "145  Infosys  44.0  4034.0      Delhi   India       1"
      ]
     },
     "execution_count": 51,
     "metadata": {},
     "output_type": "execute_result"
    }
   ],
   "source": [
    "#.Filter the data with age >40 and salary<5000\n",
    "filtered_df = df[(df['age'] > 40) & (df['salary'] < 5000)]\n",
    "filtered_df"
   ]
  },
  {
   "cell_type": "code",
   "execution_count": 59,
   "id": "b94c8228-3e07-4f14-afb2-11309a534101",
   "metadata": {},
   "outputs": [
    {
     "data": {
      "image/png": "[encoded data removed]",
      "text/plain": [
       "<Figure size 640x480 with 1 Axes>"
      ]
     },
     "metadata": {},
     "output_type": "display_data"
    }
   ],
   "source": [
    "#Plot the chart with age and salary\n",
    "plt.scatter(df['age'], df['salary'])\n",
    "plt.xlabel('Age')\n",
    "plt.ylabel('Salary')\n",
    "plt.title('Age vs Salary')\n",
    "plt.show()"
   ]
  },
  {
   "cell_type": "code",
   "execution_count": 61,
   "id": "36e5bbde-e99f-43c6-8a7a-84a07b6eeb8b",
   "metadata": {},
   "outputs": [
    {
     "data": {
      "image/png": "[encoded data removed]",
      "text/plain": [
       "<Figure size 640x480 with 1 Axes>"
      ]
     },
     "metadata": {},
     "output_type": "display_data"
    }
   ],
   "source": [
    "# Count the number of people from each place and represent it visually.\n",
    "place_counts = df['place'].value_counts()\n",
    "place_counts.plot(kind='bar', title='Count of People from Each Place')\n",
    "plt.xlabel('Place')\n",
    "plt.ylabel('Count')\n",
    "plt.show()"
   ]
  },
  {
   "cell_type": "markdown",
   "id": "5ab079a1-a29d-47de-8ff2-6b4582a14650",
   "metadata": {},
   "source": [
    "# Data Encoding"
   ]
  },
  {
   "cell_type": "code",
   "execution_count": 68,
   "id": "7684d5e1-b231-4f8b-a3e5-6c2c76bb834f",
   "metadata": {},
   "outputs": [
    {
     "name": "stdout",
     "output_type": "stream",
     "text": [
      "Encoded DataFrame columns:\n",
      "Index(['age', 'salary', 'gender', 'company_Congnizant', 'company_Infosys',\n",
      "       'company_Infosys Pvt Lmt', 'company_TCS',\n",
      "       'company_Tata Consultancy Services', 'place_Calcutta', 'place_Chennai',\n",
      "       'place_Cochin', 'place_Delhi', 'place_Hyderabad', 'place_Mumbai',\n",
      "       'place_Nagpur', 'place_Noida', 'place_Podicherry', 'place_Pune'],\n",
      "      dtype='object')\n"
     ]
    }
   ],
   "source": [
    "# Label Encoding for 'gender' (binary category)\n",
    "if 'gender' in df.columns:\n",
    "    le = LabelEncoder()\n",
    "    df['gender'] = le.fit_transform(df['gender'])\n",
    "\n",
    "# One-hot encoding for other categorical features\n",
    "categorical_cols = df.select_dtypes(include='object').columns.tolist()\n",
    "categorical_cols = [col for col in categorical_cols if col != 'gender']  # already label encoded\n",
    "\n",
    "df_encoded = pd.get_dummies(df, columns=categorical_cols, drop_first=True)\n",
    "\n",
    "print('Encoded DataFrame columns:')\n",
    "print(df_encoded.columns)"
   ]
  },
  {
   "cell_type": "markdown",
   "id": "d142e6a1-9917-4e46-ae3d-a0cfd338813b",
   "metadata": {},
   "source": [
    "# Feature Scaling"
   ]
  },
  {
   "cell_type": "code",
   "execution_count": 73,
   "id": "01393514-9760-443d-ad63-bb7a49970475",
   "metadata": {},
   "outputs": [],
   "source": [
    "# Identify numeric columns for scaling\n",
    "numeric_cols = df_encoded.select_dtypes(include=['int64', 'float64']).columns.tolist()\n",
    "\n",
    "# StandardScaler\n",
    "scaler_std = StandardScaler()\n",
    "df_std_scaled = df_encoded.copy()\n",
    "df_std_scaled[numeric_cols] = scaler_std.fit_transform(df_encoded[numeric_cols])"
   ]
  },
  {
   "cell_type": "code",
   "execution_count": 81,
   "id": "d05675e2-863a-4438-b689-5780f13d09ad",
   "metadata": {},
   "outputs": [],
   "source": [
    "#MinMaxScaler\n",
    "scaler_mm = MinMaxScaler()\n",
    "df_mm_scaled = df_encoded.copy()\n",
    "df_mm_scaled[numeric_cols] = scaler_mm.fit_transform(df_encoded[numeric_cols])"
   ]
  },
  {
   "cell_type": "code",
   "execution_count": 75,
   "id": "74e4c444-0479-451a-897b-3f618685ae9d",
   "metadata": {},
   "outputs": [
    {
     "name": "stdout",
     "output_type": "stream",
     "text": [
      "Sample of Standard Scaled Data:\n",
      "        age    salary    gender  company_Congnizant  company_Infosys  \\\n",
      "0 -1.484676 -0.766279 -0.534522               False            False   \n",
      "1 -0.267174 -0.766279 -0.534522               False             True   \n",
      "2  0.341577 -1.045833 -0.534522               False            False   \n",
      "3  0.950328 -0.766279 -0.534522               False             True   \n",
      "4 -1.119426 -0.366915 -0.534522               False            False   \n",
      "\n",
      "   company_Infosys Pvt Lmt  company_TCS  company_Tata Consultancy Services  \\\n",
      "0                    False         True                              False   \n",
      "1                    False        False                              False   \n",
      "2                    False         True                              False   \n",
      "3                    False        False                              False   \n",
      "4                    False         True                              False   \n",
      "\n",
      "   place_Calcutta  place_Chennai  place_Cochin  place_Delhi  place_Hyderabad  \\\n",
      "0           False           True         False        False            False   \n",
      "1           False          False         False        False            False   \n",
      "2            True          False         False        False            False   \n",
      "3           False          False         False         True            False   \n",
      "4           False          False         False        False            False   \n",
      "\n",
      "   place_Mumbai  place_Nagpur  place_Noida  place_Podicherry  place_Pune  \n",
      "0         False         False        False             False       False  \n",
      "1          True         False        False             False       False  \n",
      "2         False         False        False             False       False  \n",
      "3         False         False        False             False       False  \n",
      "4          True         False        False             False       False  \n",
      "\n",
      "Sample of MinMax Scaled Data:\n",
      "        age    salary  gender  company_Congnizant  company_Infosys  \\\n",
      "0  0.081081  0.217480     0.0               False            False   \n",
      "1  0.351351  0.217480     0.0               False             True   \n",
      "2  0.486486  0.137817     0.0               False            False   \n",
      "3  0.621622  0.217480     0.0               False             True   \n",
      "4  0.162162  0.331285     0.0               False            False   \n",
      "\n",
      "   company_Infosys Pvt Lmt  company_TCS  company_Tata Consultancy Services  \\\n",
      "0                    False         True                              False   \n",
      "1                    False        False                              False   \n",
      "2                    False         True                              False   \n",
      "3                    False        False                              False   \n",
      "4                    False         True                              False   \n",
      "\n",
      "   place_Calcutta  place_Chennai  place_Cochin  place_Delhi  place_Hyderabad  \\\n",
      "0           False           True         False        False            False   \n",
      "1           False          False         False        False            False   \n",
      "2            True          False         False        False            False   \n",
      "3           False          False         False         True            False   \n",
      "4           False          False         False        False            False   \n",
      "\n",
      "   place_Mumbai  place_Nagpur  place_Noida  place_Podicherry  place_Pune  \n",
      "0         False         False        False             False       False  \n",
      "1          True         False        False             False       False  \n",
      "2         False         False        False             False       False  \n",
      "3         False         False        False             False       False  \n",
      "4          True         False        False             False       False  \n"
     ]
    }
   ],
   "source": [
    "# MinMaxScaler\n",
    "scaler_mm = MinMaxScaler()\n",
    "df_mm_scaled = df_encoded.copy()\n",
    "df_mm_scaled[numeric_cols] = scaler_mm.fit_transform(df_encoded[numeric_cols])\n",
    "\n",
    "print(\"Sample of Standard Scaled Data:\")\n",
    "print(df_std_scaled.head())\n",
    "\n",
    "print(\"\\nSample of MinMax Scaled Data:\")\n",
    "print(df_mm_scaled.head())"
   ]
  }
 ],
 "metadata": {
  "kernelspec": {
   "display_name": "Python [conda env:base] *",
   "language": "python",
   "name": "conda-base-py"
  },
  "language_info": {
   "codemirror_mode": {
    "name": "ipython",
    "version": 3
   },
   "file_extension": ".py",
   "mimetype": "text/x-python",
   "name": "python",
   "nbconvert_exporter": "python",
   "pygments_lexer": "ipython3",
   "version": "3.12.7"
  }
 },
 "nbformat": 4,
 "nbformat_minor": 5
}
